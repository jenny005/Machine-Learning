{
  "nbformat": 4,
  "nbformat_minor": 0,
  "metadata": {
    "colab": {
      "name": "StockForecastingwithGARCH-Chevron.ipynb",
      "provenance": [],
      "authorship_tag": "ABX9TyPruBzgHYTBySEcEaV8kqnx",
      "include_colab_link": true
    },
    "kernelspec": {
      "name": "python3",
      "display_name": "Python 3"
    }
  },
  "cells": [
    {
      "cell_type": "markdown",
      "metadata": {
        "id": "view-in-github",
        "colab_type": "text"
      },
      "source": [
        "<a href=\"https://colab.research.google.com/github/jenny005/Machine-Learning/blob/master/StockForecastingwithGARCH_Chevron.ipynb\" target=\"_parent\"><img src=\"https://colab.research.google.com/assets/colab-badge.svg\" alt=\"Open In Colab\"/></a>"
      ]
    },
    {
      "cell_type": "code",
      "metadata": {
        "id": "N2r_3lbr8UGr",
        "outputId": "b18c84f1-2d00-4551-9c78-11a79dbe35d8",
        "colab": {
          "base_uri": "https://localhost:8080/"
        }
      },
      "source": [
        "pip install arch\n"
      ],
      "execution_count": 2,
      "outputs": [
        {
          "output_type": "stream",
          "text": [
            "Collecting arch\n",
            "\u001b[?25l  Downloading https://files.pythonhosted.org/packages/7f/5c/ef80e96f2cdc6c2d293b7e4688888a4428963c966fbb0c749c9078e68bb6/arch-4.15-cp36-cp36m-manylinux1_x86_64.whl (790kB)\n",
            "\u001b[K     |████████████████████████████████| 798kB 6.0MB/s \n",
            "\u001b[?25hRequirement already satisfied: cython>=0.29.14 in /usr/local/lib/python3.6/dist-packages (from arch) (0.29.21)\n",
            "Collecting property-cached>=1.6.3\n",
            "  Downloading https://files.pythonhosted.org/packages/5c/6c/94d8e520b20a2502e508e1c558f338061cf409cbee78fd6a3a5c6ae812bd/property_cached-1.6.4-py2.py3-none-any.whl\n",
            "Requirement already satisfied: statsmodels>=0.9 in /usr/local/lib/python3.6/dist-packages (from arch) (0.10.2)\n",
            "Requirement already satisfied: numpy>=1.14 in /usr/local/lib/python3.6/dist-packages (from arch) (1.18.5)\n",
            "Requirement already satisfied: scipy>=1.0.1 in /usr/local/lib/python3.6/dist-packages (from arch) (1.4.1)\n",
            "Requirement already satisfied: pandas>=0.23 in /usr/local/lib/python3.6/dist-packages (from arch) (1.1.4)\n",
            "Requirement already satisfied: patsy>=0.4.0 in /usr/local/lib/python3.6/dist-packages (from statsmodels>=0.9->arch) (0.5.1)\n",
            "Requirement already satisfied: python-dateutil>=2.7.3 in /usr/local/lib/python3.6/dist-packages (from pandas>=0.23->arch) (2.8.1)\n",
            "Requirement already satisfied: pytz>=2017.2 in /usr/local/lib/python3.6/dist-packages (from pandas>=0.23->arch) (2018.9)\n",
            "Requirement already satisfied: six in /usr/local/lib/python3.6/dist-packages (from patsy>=0.4.0->statsmodels>=0.9->arch) (1.15.0)\n",
            "Installing collected packages: property-cached, arch\n",
            "Successfully installed arch-4.15 property-cached-1.6.4\n"
          ],
          "name": "stdout"
        }
      ]
    },
    {
      "cell_type": "code",
      "metadata": {
        "id": "kEkmukBr8uTZ",
        "outputId": "fad4be71-4aa8-4b44-b39c-e9ebfe661198",
        "colab": {
          "base_uri": "https://localhost:8080/"
        }
      },
      "source": [
        "import pandas_datareader.data as web\n",
        "from datetime import datetime, timedelta\n",
        "import pandas as pd\n",
        "import matplotlib.pyplot as plt\n",
        "from arch import arch_model\n",
        "from statsmodels.graphics.tsaplots import plot_acf, plot_pacf\n",
        "import numpy as np"
      ],
      "execution_count": 3,
      "outputs": [
        {
          "output_type": "stream",
          "text": [
            "/usr/local/lib/python3.6/dist-packages/statsmodels/tools/_testing.py:19: FutureWarning: pandas.util.testing is deprecated. Use the functions in the public API at pandas.testing instead.\n",
            "  import pandas.util.testing as tm\n"
          ],
          "name": "stderr"
        }
      ]
    },
    {
      "cell_type": "markdown",
      "metadata": {
        "id": "8uDBBpZO8wqM"
      },
      "source": [
        "**Chevron Volatility**"
      ]
    },
    {
      "cell_type": "code",
      "metadata": {
        "id": "_usb4eAc84Nx"
      },
      "source": [
        "start = datetime(2015, 1, 1)\n",
        "end = datetime(2020, 11, 16)"
      ],
      "execution_count": 4,
      "outputs": []
    },
    {
      "cell_type": "code",
      "metadata": {
        "id": "8dCA8Qst9dCZ"
      },
      "source": [
        "chevron = web.DataReader('CVX', 'yahoo', start=start, end=end)"
      ],
      "execution_count": 5,
      "outputs": []
    },
    {
      "cell_type": "code",
      "metadata": {
        "id": "ZkIzqTSH9pDx"
      },
      "source": [
        "returns = 100 * chevron.Close.pct_change().dropna()"
      ],
      "execution_count": 7,
      "outputs": []
    },
    {
      "cell_type": "code",
      "metadata": {
        "id": "bI4WJggw95nP",
        "outputId": "e767cc1b-831e-4935-a4a8-7599a4e1c37f",
        "colab": {
          "base_uri": "https://localhost:8080/",
          "height": 303
        }
      },
      "source": [
        "plt.figure(figsize=(10,4))\n",
        "plt.plot(returns)\n",
        "plt.ylabel('Pct Return', fontsize=16)\n",
        "plt.title('Chevron Returns', fontsize=20)"
      ],
      "execution_count": 9,
      "outputs": [
        {
          "output_type": "execute_result",
          "data": {
            "text/plain": [
              "Text(0.5, 1.0, 'Chevron Returns')"
            ]
          },
          "metadata": {
            "tags": []
          },
          "execution_count": 9
        },
        {
          "output_type": "display_data",
          "data": {
            "image/png": "[encoded data removed]",
            "text/plain": [
              "<Figure size 720x288 with 1 Axes>"
            ]
          },
          "metadata": {
            "tags": [],
            "needs_background": "light"
          }
        }
      ]
    },
    {
      "cell_type": "markdown",
      "metadata": {
        "id": "Tpg7iXMj-OGA"
      },
      "source": [
        "**PACF**"
      ]
    },
    {
      "cell_type": "code",
      "metadata": {
        "id": "f8UuErd_-NaZ",
        "outputId": "efb719be-16ee-4dbc-b2e4-181fe11ea822",
        "colab": {
          "base_uri": "https://localhost:8080/",
          "height": 281
        }
      },
      "source": [
        "plot_pacf(returns**2)\n",
        "plt.show()"
      ],
      "execution_count": 10,
      "outputs": [
        {
          "output_type": "display_data",
          "data": {
            "image/png": "[encoded data removed]",
            "text/plain": [
              "<Figure size 432x288 with 1 Axes>"
            ]
          },
          "metadata": {
            "tags": [],
            "needs_background": "light"
          }
        }
      ]
    },
    {
      "cell_type": "markdown",
      "metadata": {
        "id": "0BlaDNgO-gPh"
      },
      "source": [
        "Fit GARCH(4,4)"
      ]
    },
    {
      "cell_type": "code",
      "metadata": {
        "id": "VciEgq0R-kr7"
      },
      "source": [
        "model = arch_model(returns, p=4, q=4)"
      ],
      "execution_count": 11,
      "outputs": []
    },
    {
      "cell_type": "code",
      "metadata": {
        "id": "cvYkXKnN-s6j",
        "outputId": "1f2bec32-c234-4f39-b852-08509d1e255c",
        "colab": {
          "base_uri": "https://localhost:8080/"
        }
      },
      "source": [
        "model_fit = model.fit()"
      ],
      "execution_count": 12,
      "outputs": [
        {
          "output_type": "stream",
          "text": [
            "Iteration:      1,   Func. Count:     12,   Neg. LLF: 2689.7362403640263\n",
            "Iteration:      2,   Func. Count:     29,   Neg. LLF: 2689.3526443545206\n",
            "Iteration:      3,   Func. Count:     44,   Neg. LLF: 2688.9661092326337\n",
            "Iteration:      4,   Func. Count:     57,   Neg. LLF: 2685.44959296831\n",
            "Iteration:      5,   Func. Count:     71,   Neg. LLF: 2684.1793024253093\n",
            "Iteration:      6,   Func. Count:     84,   Neg. LLF: 2682.643287509733\n",
            "Iteration:      7,   Func. Count:     97,   Neg. LLF: 2681.1798304463446\n",
            "Iteration:      8,   Func. Count:    110,   Neg. LLF: 2678.7413014253775\n",
            "Iteration:      9,   Func. Count:    123,   Neg. LLF: 2677.5088066320377\n",
            "Iteration:     10,   Func. Count:    136,   Neg. LLF: 2677.351974679279\n",
            "Iteration:     11,   Func. Count:    149,   Neg. LLF: 2676.9841217028634\n",
            "Iteration:     12,   Func. Count:    162,   Neg. LLF: 2676.682509289865\n",
            "Iteration:     13,   Func. Count:    175,   Neg. LLF: 2676.528678359546\n",
            "Iteration:     14,   Func. Count:    188,   Neg. LLF: 2676.421472809071\n",
            "Iteration:     15,   Func. Count:    200,   Neg. LLF: 2676.2507307116666\n",
            "Iteration:     16,   Func. Count:    213,   Neg. LLF: 2676.2368943410365\n",
            "Iteration:     17,   Func. Count:    226,   Neg. LLF: 2676.195874203748\n",
            "Iteration:     18,   Func. Count:    239,   Neg. LLF: 2676.122371559298\n",
            "Iteration:     19,   Func. Count:    253,   Neg. LLF: 2676.119087246736\n",
            "Iteration:     20,   Func. Count:    265,   Neg. LLF: 2676.043848491794\n",
            "Iteration:     21,   Func. Count:    277,   Neg. LLF: 2675.9885171056126\n",
            "Iteration:     22,   Func. Count:    289,   Neg. LLF: 2675.8968775628127\n",
            "Iteration:     23,   Func. Count:    301,   Neg. LLF: 2675.8436845212855\n",
            "Iteration:     24,   Func. Count:    313,   Neg. LLF: 2675.8242783790047\n",
            "Iteration:     25,   Func. Count:    325,   Neg. LLF: 2675.81968267779\n",
            "Iteration:     26,   Func. Count:    337,   Neg. LLF: 2675.8193502678787\n",
            "Iteration:     27,   Func. Count:    349,   Neg. LLF: 2675.819337892753\n",
            "Optimization terminated successfully.    (Exit mode 0)\n",
            "            Current function value: 2675.8193378786573\n",
            "            Iterations: 27\n",
            "            Function evaluations: 349\n",
            "            Gradient evaluations: 27\n"
          ],
          "name": "stdout"
        }
      ]
    },
    {
      "cell_type": "code",
      "metadata": {
        "id": "jPgm7KSW-64M",
        "outputId": "0eda5885-6631-4cc3-8a96-446624e547ae",
        "colab": {
          "base_uri": "https://localhost:8080/",
          "height": 545
        }
      },
      "source": [
        "model_fit.summary()"
      ],
      "execution_count": 13,
      "outputs": [
        {
          "output_type": "execute_result",
          "data": {
            "text/html": [
              "<table class=\"simpletable\">\n",
              "<caption>Constant Mean - GARCH Model Results</caption>\n",
              "<tr>\n",
              "  <th>Dep. Variable:</th>        <td>Close</td>       <th>  R-squared:         </th>  <td>  -0.000</td> \n",
              "</tr>\n",
              "<tr>\n",
              "  <th>Mean Model:</th>       <td>Constant Mean</td>   <th>  Adj. R-squared:    </th>  <td>  -0.000</td> \n",
              "</tr>\n",
              "<tr>\n",
              "  <th>Vol Model:</th>            <td>GARCH</td>       <th>  Log-Likelihood:    </th> <td>  -2675.82</td>\n",
              "</tr>\n",
              "<tr>\n",
              "  <th>Distribution:</th>        <td>Normal</td>       <th>  AIC:               </th> <td>   5371.64</td>\n",
              "</tr>\n",
              "<tr>\n",
              "  <th>Method:</th>        <td>Maximum Likelihood</td> <th>  BIC:               </th> <td>   5424.63</td>\n",
              "</tr>\n",
              "<tr>\n",
              "  <th></th>                        <td></td>          <th>  No. Observations:  </th>    <td>1479</td>   \n",
              "</tr>\n",
              "<tr>\n",
              "  <th>Date:</th>           <td>Mon, Nov 16 2020</td>  <th>  Df Residuals:      </th>    <td>1469</td>   \n",
              "</tr>\n",
              "<tr>\n",
              "  <th>Time:</th>               <td>16:54:45</td>      <th>  Df Model:          </th>     <td>10</td>    \n",
              "</tr>\n",
              "</table>\n",
              "<table class=\"simpletable\">\n",
              "<caption>Mean Model</caption>\n",
              "<tr>\n",
              "   <td></td>     <th>coef</th>     <th>std err</th>      <th>t</th>       <th>P>|t|</th>      <th>95.0% Conf. Int.</th>   \n",
              "</tr>\n",
              "<tr>\n",
              "  <th>mu</th> <td>    0.0262</td> <td>3.440e-02</td> <td>    0.760</td> <td>    0.447</td> <td>[-4.127e-02,9.357e-02]</td>\n",
              "</tr>\n",
              "</table>\n",
              "<table class=\"simpletable\">\n",
              "<caption>Volatility Model</caption>\n",
              "<tr>\n",
              "      <td></td>        <th>coef</th>     <th>std err</th>      <th>t</th>       <th>P>|t|</th>     <th>95.0% Conf. Int.</th>  \n",
              "</tr>\n",
              "<tr>\n",
              "  <th>omega</th>    <td>    0.1198</td> <td>    0.158</td> <td>    0.760</td> <td>    0.447</td>   <td>[ -0.189,  0.428]</td> \n",
              "</tr>\n",
              "<tr>\n",
              "  <th>alpha[1]</th> <td>    0.1119</td> <td>4.168e-02</td> <td>    2.684</td> <td>7.264e-03</td>  <td>[3.020e-02,  0.194]</td>\n",
              "</tr>\n",
              "<tr>\n",
              "  <th>alpha[2]</th> <td>    0.0311</td> <td>    0.169</td> <td>    0.184</td> <td>    0.854</td>   <td>[ -0.300,  0.362]</td> \n",
              "</tr>\n",
              "<tr>\n",
              "  <th>alpha[3]</th> <td>    0.0623</td> <td>6.064e-02</td> <td>    1.027</td> <td>    0.304</td> <td>[-5.657e-02,  0.181]</td>\n",
              "</tr>\n",
              "<tr>\n",
              "  <th>alpha[4]</th> <td>9.9119e-03</td> <td>8.223e-02</td> <td>    0.121</td> <td>    0.904</td>   <td>[ -0.151,  0.171]</td> \n",
              "</tr>\n",
              "<tr>\n",
              "  <th>beta[1]</th>  <td>    0.0123</td> <td>    1.439</td> <td>8.547e-03</td> <td>    0.993</td>   <td>[ -2.807,  2.832]</td> \n",
              "</tr>\n",
              "<tr>\n",
              "  <th>beta[2]</th>  <td>    0.7399</td> <td>    0.357</td> <td>    2.070</td> <td>3.847e-02</td>  <td>[3.927e-02,  1.441]</td>\n",
              "</tr>\n",
              "<tr>\n",
              "  <th>beta[3]</th>    <td>0.0000</td>   <td>    1.057</td>   <td>0.000</td>   <td>    1.000</td>   <td>[ -2.071,  2.071]</td> \n",
              "</tr>\n",
              "<tr>\n",
              "  <th>beta[4]</th>    <td>0.0000</td>   <td>    0.258</td>   <td>0.000</td>   <td>    1.000</td>   <td>[ -0.506,  0.506]</td> \n",
              "</tr>\n",
              "</table><br/><br/>Covariance estimator: robust"
            ],
            "text/plain": [
              "<class 'statsmodels.iolib.summary.Summary'>\n",
              "\"\"\"\n",
              "                     Constant Mean - GARCH Model Results                      \n",
              "==============================================================================\n",
              "Dep. Variable:                  Close   R-squared:                      -0.000\n",
              "Mean Model:             Constant Mean   Adj. R-squared:                 -0.000\n",
              "Vol Model:                      GARCH   Log-Likelihood:               -2675.82\n",
              "Distribution:                  Normal   AIC:                           5371.64\n",
              "Method:            Maximum Likelihood   BIC:                           5424.63\n",
              "                                        No. Observations:                 1479\n",
              "Date:                Mon, Nov 16 2020   Df Residuals:                     1469\n",
              "Time:                        16:54:45   Df Model:                           10\n",
              "                                  Mean Model                                 \n",
              "=============================================================================\n",
              "                 coef    std err          t      P>|t|       95.0% Conf. Int.\n",
              "-----------------------------------------------------------------------------\n",
              "mu             0.0262  3.440e-02      0.760      0.447 [-4.127e-02,9.357e-02]\n",
              "                              Volatility Model                             \n",
              "===========================================================================\n",
              "                 coef    std err          t      P>|t|     95.0% Conf. Int.\n",
              "---------------------------------------------------------------------------\n",
              "omega          0.1198      0.158      0.760      0.447    [ -0.189,  0.428]\n",
              "alpha[1]       0.1119  4.168e-02      2.684  7.264e-03  [3.020e-02,  0.194]\n",
              "alpha[2]       0.0311      0.169      0.184      0.854    [ -0.300,  0.362]\n",
              "alpha[3]       0.0623  6.064e-02      1.027      0.304 [-5.657e-02,  0.181]\n",
              "alpha[4]   9.9119e-03  8.223e-02      0.121      0.904    [ -0.151,  0.171]\n",
              "beta[1]        0.0123      1.439  8.547e-03      0.993    [ -2.807,  2.832]\n",
              "beta[2]        0.7399      0.357      2.070  3.847e-02  [3.927e-02,  1.441]\n",
              "beta[3]        0.0000      1.057      0.000      1.000    [ -2.071,  2.071]\n",
              "beta[4]        0.0000      0.258      0.000      1.000    [ -0.506,  0.506]\n",
              "===========================================================================\n",
              "\n",
              "Covariance estimator: robust\n",
              "\"\"\""
            ]
          },
          "metadata": {
            "tags": []
          },
          "execution_count": 13
        }
      ]
    },
    {
      "cell_type": "markdown",
      "metadata": {
        "id": "2u6QW1zL_LlU"
      },
      "source": [
        "Try GARCH(1,0) = ARCH(1)"
      ]
    },
    {
      "cell_type": "code",
      "metadata": {
        "id": "nhDpYycn_XWg"
      },
      "source": [
        "model = arch_model(returns, p=1, q=0)"
      ],
      "execution_count": 14,
      "outputs": []
    },
    {
      "cell_type": "code",
      "metadata": {
        "id": "DYTlaJME_htV",
        "outputId": "2e62215a-4a96-4af1-f31d-543edd507512",
        "colab": {
          "base_uri": "https://localhost:8080/"
        }
      },
      "source": [
        "model_fit = model.fit()"
      ],
      "execution_count": 15,
      "outputs": [
        {
          "output_type": "stream",
          "text": [
            "Iteration:      1,   Func. Count:      5,   Neg. LLF: 2964.9350798841087\n",
            "Iteration:      2,   Func. Count:     14,   Neg. LLF: 2949.962141066975\n",
            "Iteration:      3,   Func. Count:     22,   Neg. LLF: 2949.1146443383795\n",
            "Iteration:      4,   Func. Count:     28,   Neg. LLF: 2922.4805538112832\n",
            "Iteration:      5,   Func. Count:     33,   Neg. LLF: 2912.5431893803157\n",
            "Iteration:      6,   Func. Count:     38,   Neg. LLF: 2907.930986278766\n",
            "Iteration:      7,   Func. Count:     43,   Neg. LLF: 2906.482606894311\n",
            "Iteration:      8,   Func. Count:     48,   Neg. LLF: 2905.987475885303\n",
            "Iteration:      9,   Func. Count:     53,   Neg. LLF: 2905.9817878650697\n",
            "Iteration:     10,   Func. Count:     58,   Neg. LLF: 2905.9816888798864\n",
            "Iteration:     11,   Func. Count:     63,   Neg. LLF: 2905.9816845897467\n",
            "Optimization terminated successfully.    (Exit mode 0)\n",
            "            Current function value: 2905.9816845897444\n",
            "            Iterations: 11\n",
            "            Function evaluations: 63\n",
            "            Gradient evaluations: 11\n"
          ],
          "name": "stdout"
        }
      ]
    },
    {
      "cell_type": "code",
      "metadata": {
        "id": "FlLrhnGw_kap",
        "outputId": "a95700cd-9270-4ec0-aad2-957e20ddb12b",
        "colab": {
          "base_uri": "https://localhost:8080/",
          "height": 398
        }
      },
      "source": [
        "model_fit.summary()"
      ],
      "execution_count": 16,
      "outputs": [
        {
          "output_type": "execute_result",
          "data": {
            "text/html": [
              "<table class=\"simpletable\">\n",
              "<caption>Constant Mean - ARCH Model Results</caption>\n",
              "<tr>\n",
              "  <th>Dep. Variable:</th>        <td>Close</td>       <th>  R-squared:         </th>  <td>  -0.000</td> \n",
              "</tr>\n",
              "<tr>\n",
              "  <th>Mean Model:</th>       <td>Constant Mean</td>   <th>  Adj. R-squared:    </th>  <td>  -0.000</td> \n",
              "</tr>\n",
              "<tr>\n",
              "  <th>Vol Model:</th>            <td>ARCH</td>        <th>  Log-Likelihood:    </th> <td>  -2905.98</td>\n",
              "</tr>\n",
              "<tr>\n",
              "  <th>Distribution:</th>        <td>Normal</td>       <th>  AIC:               </th> <td>   5817.96</td>\n",
              "</tr>\n",
              "<tr>\n",
              "  <th>Method:</th>        <td>Maximum Likelihood</td> <th>  BIC:               </th> <td>   5833.86</td>\n",
              "</tr>\n",
              "<tr>\n",
              "  <th></th>                        <td></td>          <th>  No. Observations:  </th>    <td>1479</td>   \n",
              "</tr>\n",
              "<tr>\n",
              "  <th>Date:</th>           <td>Mon, Nov 16 2020</td>  <th>  Df Residuals:      </th>    <td>1476</td>   \n",
              "</tr>\n",
              "<tr>\n",
              "  <th>Time:</th>               <td>16:58:15</td>      <th>  Df Model:          </th>      <td>3</td>    \n",
              "</tr>\n",
              "</table>\n",
              "<table class=\"simpletable\">\n",
              "<caption>Mean Model</caption>\n",
              "<tr>\n",
              "   <td></td>     <th>coef</th>      <th>std err</th>       <th>t</th>       <th>P>|t|</th>   <th>95.0% Conf. Int.</th> \n",
              "</tr>\n",
              "<tr>\n",
              "  <th>mu</th> <td>-7.9505e-03</td> <td>8.178e-02</td> <td>-9.721e-02</td> <td>    0.923</td> <td>[ -0.168,  0.152]</td>\n",
              "</tr>\n",
              "</table>\n",
              "<table class=\"simpletable\">\n",
              "<caption>Volatility Model</caption>\n",
              "<tr>\n",
              "      <td></td>        <th>coef</th>     <th>std err</th>      <th>t</th>       <th>P>|t|</th>   <th>95.0% Conf. Int.</th> \n",
              "</tr>\n",
              "<tr>\n",
              "  <th>omega</th>    <td>    1.7763</td> <td>    0.166</td> <td>   10.717</td> <td>8.499e-27</td> <td>[  1.451,  2.101]</td>\n",
              "</tr>\n",
              "<tr>\n",
              "  <th>alpha[1]</th> <td>    0.7775</td> <td>    0.302</td> <td>    2.575</td> <td>1.004e-02</td> <td>[  0.186,  1.369]</td>\n",
              "</tr>\n",
              "</table><br/><br/>Covariance estimator: robust"
            ],
            "text/plain": [
              "<class 'statsmodels.iolib.summary.Summary'>\n",
              "\"\"\"\n",
              "                      Constant Mean - ARCH Model Results                      \n",
              "==============================================================================\n",
              "Dep. Variable:                  Close   R-squared:                      -0.000\n",
              "Mean Model:             Constant Mean   Adj. R-squared:                 -0.000\n",
              "Vol Model:                       ARCH   Log-Likelihood:               -2905.98\n",
              "Distribution:                  Normal   AIC:                           5817.96\n",
              "Method:            Maximum Likelihood   BIC:                           5833.86\n",
              "                                        No. Observations:                 1479\n",
              "Date:                Mon, Nov 16 2020   Df Residuals:                     1476\n",
              "Time:                        16:58:15   Df Model:                            3\n",
              "                                Mean Model                               \n",
              "=========================================================================\n",
              "                  coef    std err          t      P>|t|  95.0% Conf. Int.\n",
              "-------------------------------------------------------------------------\n",
              "mu         -7.9505e-03  8.178e-02 -9.721e-02      0.923 [ -0.168,  0.152]\n",
              "                            Volatility Model                            \n",
              "========================================================================\n",
              "                 coef    std err          t      P>|t|  95.0% Conf. Int.\n",
              "------------------------------------------------------------------------\n",
              "omega          1.7763      0.166     10.717  8.499e-27 [  1.451,  2.101]\n",
              "alpha[1]       0.7775      0.302      2.575  1.004e-02 [  0.186,  1.369]\n",
              "========================================================================\n",
              "\n",
              "Covariance estimator: robust\n",
              "\"\"\""
            ]
          },
          "metadata": {
            "tags": []
          },
          "execution_count": 16
        }
      ]
    },
    {
      "cell_type": "markdown",
      "metadata": {
        "id": "nu7KuE2S_xuf"
      },
      "source": [
        "Covariance estimator: robust"
      ]
    },
    {
      "cell_type": "code",
      "metadata": {
        "id": "aNB4hvk7_4ZH"
      },
      "source": [
        "rolling_predictions = []\n",
        "test_size = 365\n",
        "\n",
        "for i in range(test_size):\n",
        "    train = returns[:-(test_size-i)]\n",
        "    model = arch_model(train, p=3, q=0)\n",
        "    model_fit = model.fit(disp='off')\n",
        "    pred = model_fit.forecast(horizon=1)\n",
        "    rolling_predictions.append(np.sqrt(pred.variance.values[-1,:][0]))"
      ],
      "execution_count": 17,
      "outputs": []
    },
    {
      "cell_type": "code",
      "metadata": {
        "id": "PzNb1nFf_8S5"
      },
      "source": [
        "rolling_predictions = pd.Series(rolling_predictions, index=returns.index[-365:])"
      ],
      "execution_count": 18,
      "outputs": []
    },
    {
      "cell_type": "code",
      "metadata": {
        "id": "oHZBAULMABe-",
        "outputId": "3f3b74ff-b4f7-4c8d-dbbe-95eb9bef9dba",
        "colab": {
          "base_uri": "https://localhost:8080/",
          "height": 303
        }
      },
      "source": [
        "plt.figure(figsize=(10,4))\n",
        "true, = plt.plot(returns[-365:])\n",
        "preds, = plt.plot(rolling_predictions)\n",
        "plt.title('Volatility Prediction - Rolling Forecast', fontsize=20)\n",
        "plt.legend(['True Returns', 'Predicted Volatility'], fontsize=10)"
      ],
      "execution_count": 20,
      "outputs": [
        {
          "output_type": "execute_result",
          "data": {
            "text/plain": [
              "<matplotlib.legend.Legend at 0x7f1d4b18bf28>"
            ]
          },
          "metadata": {
            "tags": []
          },
          "execution_count": 20
        },
        {
          "output_type": "display_data",
          "data": {
            "image/png": "[encoded data removed]",
            "text/plain": [
              "<Figure size 720x288 with 1 Axes>"
            ]
          },
          "metadata": {
            "tags": [],
            "needs_background": "light"
          }
        }
      ]
    }
  ]
}