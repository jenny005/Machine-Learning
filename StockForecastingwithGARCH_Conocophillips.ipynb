{
  "nbformat": 4,
  "nbformat_minor": 0,
  "metadata": {
    "colab": {
      "name": "StockForecastingwithGARCH-Conocophillips.ipynb",
      "provenance": [],
      "authorship_tag": "ABX9TyMa3laFU5ToIh8m5JPRcod9",
      "include_colab_link": true
    },
    "kernelspec": {
      "name": "python3",
      "display_name": "Python 3"
    }
  },
  "cells": [
    {
      "cell_type": "markdown",
      "metadata": {
        "id": "view-in-github",
        "colab_type": "text"
      },
      "source": [
        "<a href=\"https://colab.research.google.com/github/jenny005/Machine-Learning/blob/master/StockForecastingwithGARCH_Conocophillips.ipynb\" target=\"_parent\"><img src=\"https://colab.research.google.com/assets/colab-badge.svg\" alt=\"Open In Colab\"/></a>"
      ]
    },
    {
      "cell_type": "code",
      "metadata": {
        "id": "N2r_3lbr8UGr",
        "outputId": "b18c84f1-2d00-4551-9c78-11a79dbe35d8",
        "colab": {
          "base_uri": "https://localhost:8080/"
        }
      },
      "source": [
        "pip install arch\n"
      ],
      "execution_count": 2,
      "outputs": [
        {
          "output_type": "stream",
          "text": [
            "Collecting arch\n",
            "\u001b[?25l  Downloading https://files.pythonhosted.org/packages/7f/5c/ef80e96f2cdc6c2d293b7e4688888a4428963c966fbb0c749c9078e68bb6/arch-4.15-cp36-cp36m-manylinux1_x86_64.whl (790kB)\n",
            "\u001b[K     |████████████████████████████████| 798kB 6.0MB/s \n",
            "\u001b[?25hRequirement already satisfied: cython>=0.29.14 in /usr/local/lib/python3.6/dist-packages (from arch) (0.29.21)\n",
            "Collecting property-cached>=1.6.3\n",
            "  Downloading https://files.pythonhosted.org/packages/5c/6c/94d8e520b20a2502e508e1c558f338061cf409cbee78fd6a3a5c6ae812bd/property_cached-1.6.4-py2.py3-none-any.whl\n",
            "Requirement already satisfied: statsmodels>=0.9 in /usr/local/lib/python3.6/dist-packages (from arch) (0.10.2)\n",
            "Requirement already satisfied: numpy>=1.14 in /usr/local/lib/python3.6/dist-packages (from arch) (1.18.5)\n",
            "Requirement already satisfied: scipy>=1.0.1 in /usr/local/lib/python3.6/dist-packages (from arch) (1.4.1)\n",
            "Requirement already satisfied: pandas>=0.23 in /usr/local/lib/python3.6/dist-packages (from arch) (1.1.4)\n",
            "Requirement already satisfied: patsy>=0.4.0 in /usr/local/lib/python3.6/dist-packages (from statsmodels>=0.9->arch) (0.5.1)\n",
            "Requirement already satisfied: python-dateutil>=2.7.3 in /usr/local/lib/python3.6/dist-packages (from pandas>=0.23->arch) (2.8.1)\n",
            "Requirement already satisfied: pytz>=2017.2 in /usr/local/lib/python3.6/dist-packages (from pandas>=0.23->arch) (2018.9)\n",
            "Requirement already satisfied: six in /usr/local/lib/python3.6/dist-packages (from patsy>=0.4.0->statsmodels>=0.9->arch) (1.15.0)\n",
            "Installing collected packages: property-cached, arch\n",
            "Successfully installed arch-4.15 property-cached-1.6.4\n"
          ],
          "name": "stdout"
        }
      ]
    },
    {
      "cell_type": "code",
      "metadata": {
        "id": "kEkmukBr8uTZ",
        "outputId": "fad4be71-4aa8-4b44-b39c-e9ebfe661198",
        "colab": {
          "base_uri": "https://localhost:8080/"
        }
      },
      "source": [
        "import pandas_datareader.data as web\n",
        "from datetime import datetime, timedelta\n",
        "import pandas as pd\n",
        "import matplotlib.pyplot as plt\n",
        "from arch import arch_model\n",
        "from statsmodels.graphics.tsaplots import plot_acf, plot_pacf\n",
        "import numpy as np"
      ],
      "execution_count": 3,
      "outputs": [
        {
          "output_type": "stream",
          "text": [
            "/usr/local/lib/python3.6/dist-packages/statsmodels/tools/_testing.py:19: FutureWarning: pandas.util.testing is deprecated. Use the functions in the public API at pandas.testing instead.\n",
            "  import pandas.util.testing as tm\n"
          ],
          "name": "stderr"
        }
      ]
    },
    {
      "cell_type": "markdown",
      "metadata": {
        "id": "8uDBBpZO8wqM"
      },
      "source": [
        "**Chevron Volatility**"
      ]
    },
    {
      "cell_type": "code",
      "metadata": {
        "id": "_usb4eAc84Nx"
      },
      "source": [
        "start = datetime(2015, 1, 1)\n",
        "end = datetime(2020, 11, 16)"
      ],
      "execution_count": 21,
      "outputs": []
    },
    {
      "cell_type": "code",
      "metadata": {
        "id": "8dCA8Qst9dCZ"
      },
      "source": [
        "cop = web.DataReader('COP', 'yahoo', start=start, end=end)"
      ],
      "execution_count": 22,
      "outputs": []
    },
    {
      "cell_type": "code",
      "metadata": {
        "id": "ZkIzqTSH9pDx"
      },
      "source": [
        "returns = 100 * cop.Close.pct_change().dropna()"
      ],
      "execution_count": 23,
      "outputs": []
    },
    {
      "cell_type": "code",
      "metadata": {
        "id": "bI4WJggw95nP",
        "outputId": "38eb05fa-3bdb-4ed4-b022-f3c02c1ab8b3",
        "colab": {
          "base_uri": "https://localhost:8080/",
          "height": 303
        }
      },
      "source": [
        "plt.figure(figsize=(10,4))\n",
        "plt.plot(returns)\n",
        "plt.ylabel('Pct Return', fontsize=16)\n",
        "plt.title('Conocophillips Returns', fontsize=20)"
      ],
      "execution_count": 24,
      "outputs": [
        {
          "output_type": "execute_result",
          "data": {
            "text/plain": [
              "Text(0.5, 1.0, 'Conocophillips Returns')"
            ]
          },
          "metadata": {
            "tags": []
          },
          "execution_count": 24
        },
        {
          "output_type": "display_data",
          "data": {
            "image/png": "[encoded data removed]",
            "text/plain": [
              "<Figure size 720x288 with 1 Axes>"
            ]
          },
          "metadata": {
            "tags": [],
            "needs_background": "light"
          }
        }
      ]
    },
    {
      "cell_type": "markdown",
      "metadata": {
        "id": "Tpg7iXMj-OGA"
      },
      "source": [
        "**PACF**"
      ]
    },
    {
      "cell_type": "code",
      "metadata": {
        "id": "f8UuErd_-NaZ",
        "outputId": "77244ba2-896c-4693-a791-c5be05f7d654",
        "colab": {
          "base_uri": "https://localhost:8080/",
          "height": 281
        }
      },
      "source": [
        "plot_pacf(returns**2)\n",
        "plt.show()"
      ],
      "execution_count": 25,
      "outputs": [
        {
          "output_type": "display_data",
          "data": {
            "image/png": "[encoded data removed]",
            "text/plain": [
              "<Figure size 432x288 with 1 Axes>"
            ]
          },
          "metadata": {
            "tags": [],
            "needs_background": "light"
          }
        }
      ]
    },
    {
      "cell_type": "markdown",
      "metadata": {
        "id": "0BlaDNgO-gPh"
      },
      "source": [
        "Fit GARCH(4,4)"
      ]
    },
    {
      "cell_type": "code",
      "metadata": {
        "id": "VciEgq0R-kr7"
      },
      "source": [
        "model = arch_model(returns, p=4, q=4)"
      ],
      "execution_count": 26,
      "outputs": []
    },
    {
      "cell_type": "code",
      "metadata": {
        "id": "cvYkXKnN-s6j",
        "outputId": "a90b8bb2-66e9-47a3-9fce-8bc3ae657488",
        "colab": {
          "base_uri": "https://localhost:8080/"
        }
      },
      "source": [
        "model_fit = model.fit()"
      ],
      "execution_count": 27,
      "outputs": [
        {
          "output_type": "stream",
          "text": [
            "Iteration:      1,   Func. Count:     12,   Neg. LLF: 3215.133101034266\n",
            "Iteration:      2,   Func. Count:     29,   Neg. LLF: 3213.4276948809147\n",
            "Iteration:      3,   Func. Count:     43,   Neg. LLF: 3212.434322722631\n",
            "Iteration:      4,   Func. Count:     56,   Neg. LLF: 3205.2055985855127\n",
            "Iteration:      5,   Func. Count:     70,   Neg. LLF: 3204.8739458830023\n",
            "Iteration:      6,   Func. Count:     83,   Neg. LLF: 3203.934553327923\n",
            "Iteration:      7,   Func. Count:     96,   Neg. LLF: 3203.701728747129\n",
            "Iteration:      8,   Func. Count:    109,   Neg. LLF: 3202.5171628330427\n",
            "Iteration:      9,   Func. Count:    122,   Neg. LLF: 3202.135325502656\n",
            "Iteration:     10,   Func. Count:    134,   Neg. LLF: 3201.9622027916703\n",
            "Iteration:     11,   Func. Count:    147,   Neg. LLF: 3201.527156246487\n",
            "Iteration:     12,   Func. Count:    159,   Neg. LLF: 3200.454151200323\n",
            "Iteration:     13,   Func. Count:    171,   Neg. LLF: 3199.7674831702025\n",
            "Iteration:     14,   Func. Count:    184,   Neg. LLF: 3199.2861120382195\n",
            "Iteration:     15,   Func. Count:    196,   Neg. LLF: 3198.8739413885382\n",
            "Iteration:     16,   Func. Count:    209,   Neg. LLF: 3198.846252978681\n",
            "Iteration:     17,   Func. Count:    221,   Neg. LLF: 3198.8450334827994\n",
            "Iteration:     18,   Func. Count:    233,   Neg. LLF: 3198.8446139925522\n",
            "Iteration:     19,   Func. Count:    245,   Neg. LLF: 3198.8446129921094\n",
            "Iteration:     20,   Func. Count:    257,   Neg. LLF: 3198.8446118468737\n",
            "Optimization terminated successfully.    (Exit mode 0)\n",
            "            Current function value: 3198.844611794997\n",
            "            Iterations: 21\n",
            "            Function evaluations: 263\n",
            "            Gradient evaluations: 20\n"
          ],
          "name": "stdout"
        }
      ]
    },
    {
      "cell_type": "code",
      "metadata": {
        "id": "jPgm7KSW-64M",
        "outputId": "80929aca-f5e9-447d-808f-6394c44480d9",
        "colab": {
          "base_uri": "https://localhost:8080/",
          "height": 545
        }
      },
      "source": [
        "model_fit.summary()"
      ],
      "execution_count": 28,
      "outputs": [
        {
          "output_type": "execute_result",
          "data": {
            "text/html": [
              "<table class=\"simpletable\">\n",
              "<caption>Constant Mean - GARCH Model Results</caption>\n",
              "<tr>\n",
              "  <th>Dep. Variable:</th>        <td>Close</td>       <th>  R-squared:         </th>  <td>  -0.000</td> \n",
              "</tr>\n",
              "<tr>\n",
              "  <th>Mean Model:</th>       <td>Constant Mean</td>   <th>  Adj. R-squared:    </th>  <td>  -0.000</td> \n",
              "</tr>\n",
              "<tr>\n",
              "  <th>Vol Model:</th>            <td>GARCH</td>       <th>  Log-Likelihood:    </th> <td>  -3198.84</td>\n",
              "</tr>\n",
              "<tr>\n",
              "  <th>Distribution:</th>        <td>Normal</td>       <th>  AIC:               </th> <td>   6417.69</td>\n",
              "</tr>\n",
              "<tr>\n",
              "  <th>Method:</th>        <td>Maximum Likelihood</td> <th>  BIC:               </th> <td>   6470.68</td>\n",
              "</tr>\n",
              "<tr>\n",
              "  <th></th>                        <td></td>          <th>  No. Observations:  </th>    <td>1479</td>   \n",
              "</tr>\n",
              "<tr>\n",
              "  <th>Date:</th>           <td>Mon, Nov 16 2020</td>  <th>  Df Residuals:      </th>    <td>1469</td>   \n",
              "</tr>\n",
              "<tr>\n",
              "  <th>Time:</th>               <td>17:06:09</td>      <th>  Df Model:          </th>     <td>10</td>    \n",
              "</tr>\n",
              "</table>\n",
              "<table class=\"simpletable\">\n",
              "<caption>Mean Model</caption>\n",
              "<tr>\n",
              "   <td></td>     <th>coef</th>     <th>std err</th>      <th>t</th>       <th>P>|t|</th>     <th>95.0% Conf. Int.</th>  \n",
              "</tr>\n",
              "<tr>\n",
              "  <th>mu</th> <td>    0.0261</td> <td>4.922e-02</td> <td>    0.531</td> <td>    0.595</td> <td>[-7.033e-02,  0.123]</td>\n",
              "</tr>\n",
              "</table>\n",
              "<table class=\"simpletable\">\n",
              "<caption>Volatility Model</caption>\n",
              "<tr>\n",
              "      <td></td>        <th>coef</th>     <th>std err</th>      <th>t</th>       <th>P>|t|</th>      <th>95.0% Conf. Int.</th>   \n",
              "</tr>\n",
              "<tr>\n",
              "  <th>omega</th>    <td>    0.2531</td> <td>    0.181</td> <td>    1.395</td> <td>    0.163</td>    <td>[ -0.103,  0.609]</td>  \n",
              "</tr>\n",
              "<tr>\n",
              "  <th>alpha[1]</th> <td>    0.1696</td> <td>5.688e-02</td> <td>    2.982</td> <td>2.864e-03</td>   <td>[5.813e-02,  0.281]</td> \n",
              "</tr>\n",
              "<tr>\n",
              "  <th>alpha[2]</th> <td>    0.0547</td> <td>    0.104</td> <td>    0.524</td> <td>    0.600</td>    <td>[ -0.150,  0.259]</td>  \n",
              "</tr>\n",
              "<tr>\n",
              "  <th>alpha[3]</th> <td>    0.0248</td> <td>3.803e-02</td> <td>    0.652</td> <td>    0.514</td> <td>[-4.973e-02,9.933e-02]</td>\n",
              "</tr>\n",
              "<tr>\n",
              "  <th>alpha[4]</th> <td>1.4595e-10</td> <td>6.032e-02</td> <td>2.419e-09</td> <td>    1.000</td>    <td>[ -0.118,  0.118]</td>  \n",
              "</tr>\n",
              "<tr>\n",
              "  <th>beta[1]</th>  <td>3.8501e-10</td> <td>    0.534</td> <td>7.207e-10</td> <td>    1.000</td>    <td>[ -1.047,  1.047]</td>  \n",
              "</tr>\n",
              "<tr>\n",
              "  <th>beta[2]</th>  <td>2.6116e-09</td> <td>8.460e-02</td> <td>3.087e-08</td> <td>    1.000</td>    <td>[ -0.166,  0.166]</td>  \n",
              "</tr>\n",
              "<tr>\n",
              "  <th>beta[3]</th>  <td>    0.7193</td> <td>    0.114</td> <td>    6.313</td> <td>2.739e-10</td>    <td>[  0.496,  0.943]</td>  \n",
              "</tr>\n",
              "<tr>\n",
              "  <th>beta[4]</th>  <td>2.8973e-09</td> <td>    0.387</td> <td>7.488e-09</td> <td>    1.000</td>    <td>[ -0.758,  0.758]</td>  \n",
              "</tr>\n",
              "</table><br/><br/>Covariance estimator: robust"
            ],
            "text/plain": [
              "<class 'statsmodels.iolib.summary.Summary'>\n",
              "\"\"\"\n",
              "                     Constant Mean - GARCH Model Results                      \n",
              "==============================================================================\n",
              "Dep. Variable:                  Close   R-squared:                      -0.000\n",
              "Mean Model:             Constant Mean   Adj. R-squared:                 -0.000\n",
              "Vol Model:                      GARCH   Log-Likelihood:               -3198.84\n",
              "Distribution:                  Normal   AIC:                           6417.69\n",
              "Method:            Maximum Likelihood   BIC:                           6470.68\n",
              "                                        No. Observations:                 1479\n",
              "Date:                Mon, Nov 16 2020   Df Residuals:                     1469\n",
              "Time:                        17:06:09   Df Model:                           10\n",
              "                                 Mean Model                                \n",
              "===========================================================================\n",
              "                 coef    std err          t      P>|t|     95.0% Conf. Int.\n",
              "---------------------------------------------------------------------------\n",
              "mu             0.0261  4.922e-02      0.531      0.595 [-7.033e-02,  0.123]\n",
              "                               Volatility Model                              \n",
              "=============================================================================\n",
              "                 coef    std err          t      P>|t|       95.0% Conf. Int.\n",
              "-----------------------------------------------------------------------------\n",
              "omega          0.2531      0.181      1.395      0.163      [ -0.103,  0.609]\n",
              "alpha[1]       0.1696  5.688e-02      2.982  2.864e-03    [5.813e-02,  0.281]\n",
              "alpha[2]       0.0547      0.104      0.524      0.600      [ -0.150,  0.259]\n",
              "alpha[3]       0.0248  3.803e-02      0.652      0.514 [-4.973e-02,9.933e-02]\n",
              "alpha[4]   1.4595e-10  6.032e-02  2.419e-09      1.000      [ -0.118,  0.118]\n",
              "beta[1]    3.8501e-10      0.534  7.207e-10      1.000      [ -1.047,  1.047]\n",
              "beta[2]    2.6116e-09  8.460e-02  3.087e-08      1.000      [ -0.166,  0.166]\n",
              "beta[3]        0.7193      0.114      6.313  2.739e-10      [  0.496,  0.943]\n",
              "beta[4]    2.8973e-09      0.387  7.488e-09      1.000      [ -0.758,  0.758]\n",
              "=============================================================================\n",
              "\n",
              "Covariance estimator: robust\n",
              "\"\"\""
            ]
          },
          "metadata": {
            "tags": []
          },
          "execution_count": 28
        }
      ]
    },
    {
      "cell_type": "markdown",
      "metadata": {
        "id": "2u6QW1zL_LlU"
      },
      "source": [
        "Try GARCH(1,0) = ARCH(1)"
      ]
    },
    {
      "cell_type": "code",
      "metadata": {
        "id": "nhDpYycn_XWg"
      },
      "source": [
        "model = arch_model(returns, p=1, q=0)"
      ],
      "execution_count": 29,
      "outputs": []
    },
    {
      "cell_type": "code",
      "metadata": {
        "id": "DYTlaJME_htV",
        "outputId": "651d4009-2432-46ec-894c-cb9414198201",
        "colab": {
          "base_uri": "https://localhost:8080/"
        }
      },
      "source": [
        "model_fit = model.fit()"
      ],
      "execution_count": 30,
      "outputs": [
        {
          "output_type": "stream",
          "text": [
            "Iteration:      1,   Func. Count:      5,   Neg. LLF: 3382.3643336198784\n",
            "Iteration:      2,   Func. Count:     13,   Neg. LLF: 3369.8199017059383\n",
            "Iteration:      3,   Func. Count:     21,   Neg. LLF: 3362.271439335865\n",
            "Iteration:      4,   Func. Count:     27,   Neg. LLF: 3343.0287838491604\n",
            "Iteration:      5,   Func. Count:     32,   Neg. LLF: 3335.3403155630585\n",
            "Iteration:      6,   Func. Count:     38,   Neg. LLF: 3332.205878708015\n",
            "Iteration:      7,   Func. Count:     43,   Neg. LLF: 3331.6187606357907\n",
            "Iteration:      8,   Func. Count:     48,   Neg. LLF: 3331.5747566381333\n",
            "Iteration:      9,   Func. Count:     53,   Neg. LLF: 3331.573516799417\n",
            "Iteration:     10,   Func. Count:     58,   Neg. LLF: 3331.5734765859115\n",
            "Optimization terminated successfully.    (Exit mode 0)\n",
            "            Current function value: 3331.573476585909\n",
            "            Iterations: 10\n",
            "            Function evaluations: 58\n",
            "            Gradient evaluations: 10\n"
          ],
          "name": "stdout"
        }
      ]
    },
    {
      "cell_type": "code",
      "metadata": {
        "id": "FlLrhnGw_kap",
        "outputId": "41a0a915-127c-4c00-af06-9c9b9ec7eeab",
        "colab": {
          "base_uri": "https://localhost:8080/",
          "height": 398
        }
      },
      "source": [
        "model_fit.summary()"
      ],
      "execution_count": 31,
      "outputs": [
        {
          "output_type": "execute_result",
          "data": {
            "text/html": [
              "<table class=\"simpletable\">\n",
              "<caption>Constant Mean - ARCH Model Results</caption>\n",
              "<tr>\n",
              "  <th>Dep. Variable:</th>        <td>Close</td>       <th>  R-squared:         </th>  <td>  -0.000</td> \n",
              "</tr>\n",
              "<tr>\n",
              "  <th>Mean Model:</th>       <td>Constant Mean</td>   <th>  Adj. R-squared:    </th>  <td>  -0.000</td> \n",
              "</tr>\n",
              "<tr>\n",
              "  <th>Vol Model:</th>            <td>ARCH</td>        <th>  Log-Likelihood:    </th> <td>  -3331.57</td>\n",
              "</tr>\n",
              "<tr>\n",
              "  <th>Distribution:</th>        <td>Normal</td>       <th>  AIC:               </th> <td>   6669.15</td>\n",
              "</tr>\n",
              "<tr>\n",
              "  <th>Method:</th>        <td>Maximum Likelihood</td> <th>  BIC:               </th> <td>   6685.04</td>\n",
              "</tr>\n",
              "<tr>\n",
              "  <th></th>                        <td></td>          <th>  No. Observations:  </th>    <td>1479</td>   \n",
              "</tr>\n",
              "<tr>\n",
              "  <th>Date:</th>           <td>Mon, Nov 16 2020</td>  <th>  Df Residuals:      </th>    <td>1476</td>   \n",
              "</tr>\n",
              "<tr>\n",
              "  <th>Time:</th>               <td>17:06:31</td>      <th>  Df Model:          </th>      <td>3</td>    \n",
              "</tr>\n",
              "</table>\n",
              "<table class=\"simpletable\">\n",
              "<caption>Mean Model</caption>\n",
              "<tr>\n",
              "   <td></td>     <th>coef</th>     <th>std err</th>      <th>t</th>       <th>P>|t|</th>   <th>95.0% Conf. Int.</th> \n",
              "</tr>\n",
              "<tr>\n",
              "  <th>mu</th> <td>4.8804e-04</td> <td>5.788e-02</td> <td>8.432e-03</td> <td>    0.993</td> <td>[ -0.113,  0.114]</td>\n",
              "</tr>\n",
              "</table>\n",
              "<table class=\"simpletable\">\n",
              "<caption>Volatility Model</caption>\n",
              "<tr>\n",
              "      <td></td>        <th>coef</th>     <th>std err</th>      <th>t</th>       <th>P>|t|</th>   <th>95.0% Conf. Int.</th> \n",
              "</tr>\n",
              "<tr>\n",
              "  <th>omega</th>    <td>    3.4792</td> <td>    0.310</td> <td>   11.209</td> <td>3.666e-29</td> <td>[  2.871,  4.088]</td>\n",
              "</tr>\n",
              "<tr>\n",
              "  <th>alpha[1]</th> <td>    0.5492</td> <td>    0.119</td> <td>    4.634</td> <td>3.591e-06</td> <td>[  0.317,  0.781]</td>\n",
              "</tr>\n",
              "</table><br/><br/>Covariance estimator: robust"
            ],
            "text/plain": [
              "<class 'statsmodels.iolib.summary.Summary'>\n",
              "\"\"\"\n",
              "                      Constant Mean - ARCH Model Results                      \n",
              "==============================================================================\n",
              "Dep. Variable:                  Close   R-squared:                      -0.000\n",
              "Mean Model:             Constant Mean   Adj. R-squared:                 -0.000\n",
              "Vol Model:                       ARCH   Log-Likelihood:               -3331.57\n",
              "Distribution:                  Normal   AIC:                           6669.15\n",
              "Method:            Maximum Likelihood   BIC:                           6685.04\n",
              "                                        No. Observations:                 1479\n",
              "Date:                Mon, Nov 16 2020   Df Residuals:                     1476\n",
              "Time:                        17:06:31   Df Model:                            3\n",
              "                               Mean Model                               \n",
              "========================================================================\n",
              "                 coef    std err          t      P>|t|  95.0% Conf. Int.\n",
              "------------------------------------------------------------------------\n",
              "mu         4.8804e-04  5.788e-02  8.432e-03      0.993 [ -0.113,  0.114]\n",
              "                            Volatility Model                            \n",
              "========================================================================\n",
              "                 coef    std err          t      P>|t|  95.0% Conf. Int.\n",
              "------------------------------------------------------------------------\n",
              "omega          3.4792      0.310     11.209  3.666e-29 [  2.871,  4.088]\n",
              "alpha[1]       0.5492      0.119      4.634  3.591e-06 [  0.317,  0.781]\n",
              "========================================================================\n",
              "\n",
              "Covariance estimator: robust\n",
              "\"\"\""
            ]
          },
          "metadata": {
            "tags": []
          },
          "execution_count": 31
        }
      ]
    },
    {
      "cell_type": "markdown",
      "metadata": {
        "id": "nu7KuE2S_xuf"
      },
      "source": [
        "Covariance estimator: robust"
      ]
    },
    {
      "cell_type": "code",
      "metadata": {
        "id": "aNB4hvk7_4ZH"
      },
      "source": [
        "rolling_predictions = []\n",
        "test_size = 365\n",
        "\n",
        "for i in range(test_size):\n",
        "    train = returns[:-(test_size-i)]\n",
        "    model = arch_model(train, p=3, q=0)\n",
        "    model_fit = model.fit(disp='off')\n",
        "    pred = model_fit.forecast(horizon=1)\n",
        "    rolling_predictions.append(np.sqrt(pred.variance.values[-1,:][0]))"
      ],
      "execution_count": 32,
      "outputs": []
    },
    {
      "cell_type": "code",
      "metadata": {
        "id": "PzNb1nFf_8S5"
      },
      "source": [
        "rolling_predictions = pd.Series(rolling_predictions, index=returns.index[-365:])"
      ],
      "execution_count": 33,
      "outputs": []
    },
    {
      "cell_type": "code",
      "metadata": {
        "id": "oHZBAULMABe-",
        "outputId": "fd63b7b2-0b04-473f-a481-b3ce3c4a59ec",
        "colab": {
          "base_uri": "https://localhost:8080/",
          "height": 303
        }
      },
      "source": [
        "plt.figure(figsize=(10,4))\n",
        "true, = plt.plot(returns[-365:])\n",
        "preds, = plt.plot(rolling_predictions)\n",
        "plt.title('Volatility Prediction - Rolling Forecast', fontsize=20)\n",
        "plt.legend(['True Returns', 'Predicted Volatility'], fontsize=10)"
      ],
      "execution_count": 34,
      "outputs": [
        {
          "output_type": "execute_result",
          "data": {
            "text/plain": [
              "<matplotlib.legend.Legend at 0x7f1d4b0eaef0>"
            ]
          },
          "metadata": {
            "tags": []
          },
          "execution_count": 34
        },
        {
          "output_type": "display_data",
          "data": {
            "image/png": "[encoded data removed]",
            "text/plain": [
              "<Figure size 720x288 with 1 Axes>"
            ]
          },
          "metadata": {
            "tags": [],
            "needs_background": "light"
          }
        }
      ]
    },
    {
      "cell_type": "markdown",
      "metadata": {
        "id": "YtwVlDoOB0dg"
      },
      "source": [
        "**How to use the model**"
      ]
    },
    {
      "cell_type": "code",
      "metadata": {
        "id": "X7H8On8PBzwR"
      },
      "source": [
        "train = returns\n",
        "model = arch_model(train, p=2, q=2)\n",
        "model_fit = model.fit(disp='off')"
      ],
      "execution_count": 35,
      "outputs": []
    },
    {
      "cell_type": "code",
      "metadata": {
        "id": "fV_Y4eJMB801"
      },
      "source": [
        "pred = model_fit.forecast(horizon=7)\n",
        "future_dates = [returns.index[-1] + timedelta(days=i) for i in range(1,8)]\n",
        "pred = pd.Series(np.sqrt(pred.variance.values[-1,:]), index=future_dates)"
      ],
      "execution_count": 36,
      "outputs": []
    },
    {
      "cell_type": "code",
      "metadata": {
        "id": "-IPNYgtZCCcp",
        "outputId": "d8e4db21-74bf-45ab-88ef-8e3bfc0f1289",
        "colab": {
          "base_uri": "https://localhost:8080/",
          "height": 303
        }
      },
      "source": [
        "plt.figure(figsize=(10,4))\n",
        "plt.plot(pred)\n",
        "plt.title('Volatility Prediction - Next 7 Days', fontsize=20)"
      ],
      "execution_count": 37,
      "outputs": [
        {
          "output_type": "execute_result",
          "data": {
            "text/plain": [
              "Text(0.5, 1.0, 'Volatility Prediction - Next 7 Days')"
            ]
          },
          "metadata": {
            "tags": []
          },
          "execution_count": 37
        },
        {
          "output_type": "display_data",
          "data": {
            "image/png": "[encoded data removed]",
            "text/plain": [
              "<Figure size 720x288 with 1 Axes>"
            ]
          },
          "metadata": {
            "tags": [],
            "needs_background": "light"
          }
        }
      ]
    }
  ]
}